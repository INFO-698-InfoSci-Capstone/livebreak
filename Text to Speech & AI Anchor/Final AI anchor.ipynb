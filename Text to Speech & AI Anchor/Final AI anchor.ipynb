{
 "cells": [
  {
   "cell_type": "code",
   "execution_count": null,
   "id": "267802bc",
   "metadata": {},
   "outputs": [],
   "source": [
    "# check GPU\n",
    "!nvidia-smi --query-gpu=name,memory.total,memory.free --format=csv,noheader"
   ]
  },
  {
   "cell_type": "code",
   "execution_count": null,
   "id": "bde00de4",
   "metadata": {},
   "outputs": [],
   "source": [
    "# setup environment\n",
    "!update-alternatives --install /usr/local/bin/python3 python3 /usr/bin/python3.8 2\n",
    "!update-alternatives --install /usr/local/bin/python3 python3 /usr/bin/python3.9 1\n",
    "!sudo apt install python3.8\n",
    "\n",
    "!sudo apt-get install python3.8-distutils\n",
    "\n",
    "!python --version\n",
    "\n",
    "!apt-get update\n",
    "\n",
    "!apt install software-properties-common\n",
    "\n",
    "!sudo dpkg --remove --force-remove-reinstreq python3-pip python3-setuptools python3-wheel\n",
    "\n",
    "!apt-get install python3-pip\n",
    "\n",
    "print('Git clone project and install requirements...')\n",
    "!git clone https://github.com/Winfredy/SadTalker &> /dev/null\n",
    "%cd SadTalker\n",
    "!export PYTHONPATH=/content/SadTalker:$PYTHONPATH\n",
    "!python3.8 -m pip install torch==1.12.1+cu113 torchvision==0.13.1+cu113 torchaudio==0.12.1 --extra-index-url https://download.pytorch.org/whl/cu113\n",
    "!apt update\n",
    "!apt install ffmpeg &> /dev/null\n",
    "!python3.8 -m pip install -r requirements.txt"
   ]
  },
  {
   "cell_type": "code",
   "execution_count": null,
   "id": "f69a0306",
   "metadata": {},
   "outputs": [],
   "source": [
    "print('Download pre-trained models...')\n",
    "!rm -rf checkpoints\n",
    "!bash scripts/download_models.sh"
   ]
  },
  {
   "cell_type": "code",
   "execution_count": null,
   "id": "33c1e5bd",
   "metadata": {},
   "outputs": [],
   "source": [
    "# Extract text from webpage\n",
    "import requests\n",
    "from bs4 import BeautifulSoup\n",
    "\n",
    "url = 'https://azluminaria.org/2025/05/02/longer-paid-parking-hours-coming-to-most-downtown-tucson-districts-this-summer/'\n",
    "\n",
    "headers = {\n",
    "    'User-Agent': 'Mozilla/5.0 (Windows NT 10.0; Win64; x64) AppleWebKit/537.36 (KHTML, like Gecko) Chrome/98.0.4758.102 Safari/537.36'\n",
    "}\n",
    "\n",
    "response = requests.get(url, headers=headers)\n",
    "\n",
    "if response.status_code == 200:\n",
    "    soup = BeautifulSoup(response.content, 'html.parser')\n",
    "    paragraphs = soup.find_all('p')\n",
    "    text = ' '.join([p.get_text() for p in paragraphs])\n",
    "    text = text.strip().replace('\\n', ' ')[:500]\n",
    "    print(\"Extracted text:\", text)\n",
    "else:\n",
    "    print(f'Failed to retrieve the page. Status code: {response.status_code}')\n"
   ]
  },
  {
   "cell_type": "code",
   "execution_count": null,
   "id": "8318bbf4",
   "metadata": {},
   "outputs": [],
   "source": [
    "# Convert Text to Speech\n",
    "import pyttsx3\n",
    "import os\n",
    "\n",
    "# Initialize TTS engine\n",
    "engine = pyttsx3.init()\n",
    "engine.setProperty('rate', 150)\n",
    "engine.setProperty('volume', 1.0)\n",
    "\n",
    "text = \"This is a sample news paragraph to be converted into speech.\"\n",
    "\n",
    "# Define output path in SadTalker directory\n",
    "output_path = 'SadTalker/examples/driven_audio/news_audio.wav'\n",
    "\n",
    "# Save audio\n",
    "engine.save_to_file(text, output_path)\n",
    "engine.runAndWait()\n",
    "\n",
    "print(f\"Audio saved to: {output_path}\")\n"
   ]
  },
  {
   "cell_type": "code",
   "execution_count": null,
   "id": "8213fc68",
   "metadata": {},
   "outputs": [],
   "source": [
    "from shutil import copyfile\n",
    "import os\n",
    "\n",
    "!mkdir -p examples/source_image examples/driven_audio\n",
    "\n",
    "# upload image\n",
    "source_img_path = \"/content/your_image.png\"\n",
    "copyfile(source_img_path, \"examples/source_image/myface.png\")\n",
    "copyfile(\"news_audio.wav\", \"examples/driven_audio/voice.wav\")\n"
   ]
  },
  {
   "cell_type": "code",
   "execution_count": null,
   "id": "830775ff",
   "metadata": {},
   "outputs": [],
   "source": [
    "# selected audio from exmaple/driven_audio\n",
    "img = 'examples/source_image/{}.png'.format(default_head_name.value)\n",
    "print(img)\n",
    "!python3.8 inference.py --driven_audio ./examples/driven_audio/news_audio.wav \\\n",
    "           --source_image {img} \\\n",
    "           --result_dir ./results --still --preprocess full --enhancer gfpgan"
   ]
  },
  {
   "cell_type": "code",
   "execution_count": null,
   "id": "13048950",
   "metadata": {},
   "outputs": [],
   "source": [
    "# visualize code from makeittalk\n",
    "from IPython.display import HTML\n",
    "from base64 import b64encode\n",
    "import os, sys\n",
    "\n",
    "# get the last from results\n",
    "\n",
    "results = sorted(os.listdir('./results/'))\n",
    "\n",
    "mp4_name = glob.glob('./results/*.mp4')[0]\n",
    "\n",
    "mp4 = open('{}'.format(mp4_name),'rb').read()\n",
    "data_url = \"data:video/mp4;base64,\" + b64encode(mp4).decode()\n",
    "\n",
    "print('Display animation: {}'.format(mp4_name), file=sys.stderr)\n",
    "display(HTML(\"\"\"\n",
    "  <video width=256 controls>\n",
    "        <source src=\"%s\" type=\"video/mp4\">\n",
    "  </video>\n",
    "  \"\"\" % data_url))"
   ]
  }
 ],
 "metadata": {
  "kernelspec": {
   "display_name": "Python 3",
   "language": "python",
   "name": "python3"
  },
  "language_info": {
   "name": "python",
   "version": "3.12.3"
  }
 },
 "nbformat": 4,
 "nbformat_minor": 5
}
